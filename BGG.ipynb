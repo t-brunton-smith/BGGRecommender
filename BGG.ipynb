{
 "cells": [
  {
   "cell_type": "code",
   "execution_count": 1,
   "metadata": {},
   "outputs": [],
   "source": [
    "import pprint\n",
    "from boardgamegeek import BGGClient\n",
    "from boardgamegeek import CacheBackendSqlite\n",
    "import pandas as pd\n",
    "from pytictoc import TicToc\n",
    "import pprint"
   ]
  },
  {
   "cell_type": "code",
   "execution_count": 2,
   "metadata": {},
   "outputs": [],
   "source": [
    "# Create an instance of the API handler:\n",
    "pathToCache = \"/Users/taylorsmith/Python/BGG/cache01.db\"\n",
    "bgg = BGGClient(timeout=15, retries=10, retry_delay=5, disable_ssl=False, requests_per_minute=30,cache=CacheBackendSqlite(path=pathToCache, ttl=3600))\n",
    "\n",
    "# Test on my uname\n",
    "u = bgg.user('Brunty_')"
   ]
  },
  {
   "cell_type": "code",
   "execution_count": null,
   "metadata": {},
   "outputs": [],
   "source": []
  },
  {
   "cell_type": "raw",
   "metadata": {},
   "source": [
    "# Test for a game with a lot of ratings to make sure that the caching works, time to check feasibility\n",
    "# Get all the ratings and information about this specific game\n",
    "t = TicToc() #create instance of class\n",
    "thisGame = 'Gloomhaven' # Example of a game with many ratings\n",
    "thisGame = \"Yukon Salon\" # Example of a game with few ratings\n",
    "\n",
    "t.tic() #Start timer\n",
    "try:\n",
    "    g = bgg.game(game_id=bgg.get_game_id(thisGame),rating_comments=True,comments=False)\n",
    "    t.toc() #Time elapsed since t.tic()\n",
    "    print('All of {} downloaded correctly'.format(thisGame))\n",
    "except:\n",
    "    t.toc() #Time elapsed since t.tic()\n",
    "    print('There was an error in the information of {}'.format(thisGame))\n",
    "\n",
    "'{} of the ratings for {} are recorded'.format(len(g.comments),thisGame)"
   ]
  },
  {
   "cell_type": "markdown",
   "metadata": {},
   "source": [
    "## Get the list of the Top 100 Games and the Hot games and combine them into one set"
   ]
  },
  {
   "cell_type": "code",
   "execution_count": 6,
   "metadata": {},
   "outputs": [],
   "source": [
    "##### Get the set of hot games, show it\n",
    "hotGames = bgg.hot_items('boardgame')\n",
    "\n",
    "gameList = set()\n",
    "cnt = 1\n",
    "for item in hotGames.items:\n",
    "    #print(str(cnt)+' '+item.name)\n",
    "    cnt +=1\n",
    "#    statusList.append(False) # Initialize all games to not done\n",
    "    gameList.add(int(item.id))\n",
    "\n",
    "    \n",
    "##### Get the Top 100 Games from BGG\n",
    "import requests\n",
    "import re\n",
    "\n",
    "# Get the page for the top 100 rated board games \n",
    "r = requests.get('https://boardgamegeek.com/browse/boardgame/page/1?sort=rank&sortdir=asc')\n",
    "r = requests.get('https://boardgamegeek.com/browse/boardgame/page/2?sort=rank&sortdir=asc')\n",
    "r = requests.get('https://boardgamegeek.com/browse/boardgame/page/3?sort=rank&sortdir=asc')\n",
    "\n",
    "# Get the game names- Less reliable than just getting the gameId\n",
    "#topGames= (re.findall(r'<img alt=\\\"Board Game: ([^]]*)\\\"   src=', r.text))\n",
    "\n",
    "# Get the gameids \n",
    "topGames = (re.findall(r'\\t\\t\\[<a href=\"/boardgame/([^]]*)/marketplace/geekmarket', r.text))\n",
    "\n",
    "for item in topGames:\n",
    "    try:\n",
    "        gid = item.split('/')[0]\n",
    "        gameList.add(int(gid))\n",
    "    except:\n",
    "        pass\n",
    "\n",
    "    \n",
    "#for item in gameList:\n",
    "#    print('Game {} is called {}'.format(item, bgg.game(game_id=item, comments=False,rating_comments=False).name))\n",
    "    \n",
    "\n",
    "# Make the list of the hot games to add to the list of ones to process\n",
    "#progressList = dict(zip(gameList,statusList))"
   ]
  },
  {
   "cell_type": "markdown",
   "metadata": {},
   "source": [
    "# Check the list of the games already in the dataset so you don't waste time adding them again\n"
   ]
  },
  {
   "cell_type": "code",
   "execution_count": 7,
   "metadata": {},
   "outputs": [
    {
     "name": "stdout",
     "output_type": "stream",
     "text": [
      "Dataset found at Datasets/Ratings.csv adding to this one...\n"
     ]
    }
   ],
   "source": [
    "# If the file exists get all the values from the , otherwise mark them all False\n",
    "import os.path\n",
    "from os import path\n",
    "\n",
    "path_Dataset = \"Datasets/Ratings.csv\"\n",
    "if(path.exists(path_Dataset)):\n",
    "    print('Dataset found at {} adding to this one...'.format(path_Dataset))\n",
    "    df = pd.read_csv(path_Dataset,sep='|')\n",
    "    completedGameIDs = set(df['Game id'])\n",
    "    \n",
    "    # Remove the ones that we already did\n",
    "    gameList = gameList - completedGameIDs\n",
    "    HeaderOption = False\n",
    "        \n",
    "    # Open it and check which ones are done\n",
    "else:\n",
    "    print('No dataset started at {} starting a new one...'.format(path_Dataset))\n",
    "    HeaderOption = True\n",
    "\n",
    "# Dump the set to a list and give it all statuses\n",
    "progressList = {x : y for x in list(gameList) for y in [False]}"
   ]
  },
  {
   "cell_type": "code",
   "execution_count": 8,
   "metadata": {},
   "outputs": [
    {
     "data": {
      "text/plain": [
       "99"
      ]
     },
     "execution_count": 8,
     "metadata": {},
     "output_type": "execute_result"
    }
   ],
   "source": [
    "len(progressList)"
   ]
  },
  {
   "cell_type": "code",
   "execution_count": null,
   "metadata": {},
   "outputs": [
    {
     "name": "stdout",
     "output_type": "stream",
     "text": [
      "Error retrieving game info for Cryptid, skipping!\n",
      "\n",
      "Error retrieving game info for Die Macher, retrying."
     ]
    }
   ],
   "source": [
    "# For a given list of games, get the data and append it to a list, then we'll write it to a data frame\n",
    "ratingList = []\n",
    "cnt = 0\n",
    "for gameid, status in progressList.items():\n",
    "    ratingListThisGame = []\n",
    "    try:\n",
    "        firstTry = True\n",
    "        while(not(status)): #If we haven't gotten the results here, get them\n",
    "            try:\n",
    "                g = bgg.game(game_id=gameid,rating_comments=True,comments=False)\n",
    "\n",
    "                try:\n",
    "                    for game_comment in g.comments:\n",
    "                        #usrinfo = bgg.user(g.comments[0].commenter) # How to get a single user\n",
    "                        try:\n",
    "                            ratingListThisGame.append([g.name, int(g.id), game_comment.commenter, int(10*float(game_comment.rating))])\n",
    "                            ratingList.append([g.name, int(g.id), game_comment.commenter, int(10*float(game_comment.rating))])\n",
    "                        except:\n",
    "                            print(\"\\t Error retrieving rating info for user: {}, skipping!\".format(game_comment.commenter))\n",
    "                            pass\n",
    "\n",
    "\n",
    "                    print('Finished getting the {} ratings for {} successfully'.format(len(g.comments), g.name)) \n",
    "                    progressList[gameid] = True\n",
    "                    status = True\n",
    "                    break\n",
    "\n",
    "                except:\n",
    "                    print(\"\\t Error retrieving rating info for user: {}, skipping!\".format(game_comment.commenter))\n",
    "                    pass\n",
    "            except:\n",
    "                if(firstTry):\n",
    "                    print(\"\\nError retrieving game info for {}, retrying.\".format(bgg.game(game_id=gameid).name),end='')\n",
    "                    firstTry = False\n",
    "                else:\n",
    "                    print('.',end='')\n",
    "                \n",
    "        else:\n",
    "            print('Ratings for {} already pulled successfully, continuing'.format(bgg.game(game_id=gameid).name))    \n",
    "            pass\n",
    "    \n",
    "        # Then we'll write this game to a data frame and show some of it\n",
    "        bgg_thisgame_df = pd.DataFrame(ratingListThisGame,columns=['Game Name','Game id','User Name', 'Rating'])\n",
    "        bgg_thisgame_df.to_csv(path_or_buf=path_Dataset, sep='|', na_rep='', float_format=None, columns=None, header=HeaderOption, index=True, index_label=None, mode = 'a')\n",
    "    except:\n",
    "        print(\"Error retrieving game info for {}, skipping!\".format(bgg.game(game_id=gameid).name))\n",
    "        progressList[gameid] = False"
   ]
  },
  {
   "cell_type": "code",
   "execution_count": null,
   "metadata": {},
   "outputs": [],
   "source": []
  },
  {
   "cell_type": "markdown",
   "metadata": {},
   "source": [
    "# Then we'll write it to a data frame and show some of it\n",
    "bgg_df = pd.DataFrame(ratingList,columns=['Game Name','Game id','User Name', 'Rating'])\n",
    "print(bgg_df)\n",
    "\n",
    "bgg_df.to_csv(path_or_buf=path_Dataset, sep='|', na_rep='', float_format=None, columns=None, header=HeaderOption, index=True, index_label=None, mode = 'a')"
   ]
  },
  {
   "cell_type": "code",
   "execution_count": null,
   "metadata": {},
   "outputs": [],
   "source": [
    "# Need to make a similar database of all the UserNames and associate them with a userID (or at least a uniqueID for the collaborative filtering)"
   ]
  },
  {
   "cell_type": "raw",
   "metadata": {},
   "source": [
    "# Get the Top 100 Games from BGG\n",
    "import requests\n",
    "import re\n",
    "\n",
    "# Get the page for the top 100 rated board games \n",
    "r = requests.get('https://boardgamegeek.com/browse/boardgame/page/1?sort=rank&sortdir=asc')\n",
    "\n",
    "# Get the game names- Less reliable than just getting the gameId\n",
    "#topGames= (re.findall(r'<img alt=\\\"Board Game: ([^]]*)\\\"   src=', r.text))\n",
    "\n",
    "# Get the gameids \n",
    "topGames = (re.findall(r'\\t\\t\\[<a href=\"/boardgame/([^]]*)/marketplace/geekmarket', r.text))\n",
    "\n",
    "gameList_Top = []\n",
    "for item in topGames:\n",
    "    try:\n",
    "        gid = item.split('/')[0]\n",
    "        print(gid)\n",
    "        gameList_Top.append(gid)\n",
    "    except:\n",
    "        pass\n",
    "\n",
    "    \n",
    "print(len(gameList_Top))\n"
   ]
  },
  {
   "cell_type": "code",
   "execution_count": null,
   "metadata": {},
   "outputs": [],
   "source": [
    "print(\"\\nhello\")"
   ]
  },
  {
   "cell_type": "code",
   "execution_count": null,
   "metadata": {},
   "outputs": [],
   "source": []
  },
  {
   "cell_type": "code",
   "execution_count": null,
   "metadata": {},
   "outputs": [],
   "source": []
  },
  {
   "cell_type": "code",
   "execution_count": null,
   "metadata": {},
   "outputs": [],
   "source": []
  }
 ],
 "metadata": {
  "kernelspec": {
   "display_name": "Python 3",
   "language": "python",
   "name": "python3"
  },
  "language_info": {
   "codemirror_mode": {
    "name": "ipython",
    "version": 3
   },
   "file_extension": ".py",
   "mimetype": "text/x-python",
   "name": "python",
   "nbconvert_exporter": "python",
   "pygments_lexer": "ipython3",
   "version": "3.6.7"
  }
 },
 "nbformat": 4,
 "nbformat_minor": 2
}
