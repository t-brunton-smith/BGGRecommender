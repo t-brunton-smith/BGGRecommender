{
 "cells": [
  {
   "cell_type": "code",
   "execution_count": 217,
   "metadata": {},
   "outputs": [],
   "source": [
    "import pprint\n",
    "from boardgamegeek import BGGClient\n",
    "from boardgamegeek import CacheBackendSqlite\n",
    "import pandas as pd\n",
    "from pytictoc import TicToc\n"
   ]
  },
  {
   "cell_type": "code",
   "execution_count": 218,
   "metadata": {},
   "outputs": [],
   "source": [
    "# Create an instance of the API handler:\n",
    "pathToCache = \"/Users/taylorsmith/Python/BGG/cache.db\"\n",
    "bgg = BGGClient(timeout=15, retries=3, retry_delay=5, disable_ssl=False, requests_per_minute=30,cache=CacheBackendSqlite(path=pathToCache, ttl=3600))\n",
    "\n",
    "# Test on my uname\n",
    "u = bgg.user('Brunty_')"
   ]
  },
  {
   "cell_type": "code",
   "execution_count": 251,
   "metadata": {},
   "outputs": [
    {
     "name": "stdout",
     "output_type": "stream",
     "text": [
      "Elapsed time is 1.731498 seconds.\n",
      "All of Gloomhaven downloaded correctly\n"
     ]
    },
    {
     "data": {
      "text/plain": [
       "'42390 of the ratings for Gloomhaven are recorded'"
      ]
     },
     "execution_count": 251,
     "metadata": {},
     "output_type": "execute_result"
    }
   ],
   "source": [
    "# Test for a game with a lot of ratings to make sure that the caching works, time to check feasibility\n",
    "# Get all the ratings and information about this specific game\n",
    "t = TicToc() #create instance of class\n",
    "thisGame = 'Gloomhaven'\n",
    "\n",
    "t.tic() #Start timer\n",
    "try:\n",
    "    g = bgg.game(game_id=bgg.get_game_id(thisGame),rating_comments=True,comments=False)\n",
    "    t.toc() #Time elapsed since t.tic()\n",
    "    print('All of {} downloaded correctly'.format(thisGame))\n",
    "except:\n",
    "    t.toc() #Time elapsed since t.tic()\n",
    "    print('There was an error in the information of {}'.format(thisGame))\n",
    "\n",
    "'{} of the ratings for {} are recorded'.format(len(g.comments),thisGame)"
   ]
  },
  {
   "cell_type": "code",
   "execution_count": 242,
   "metadata": {},
   "outputs": [
    {
     "name": "stdout",
     "output_type": "stream",
     "text": [
      "Stardew Valley: The Board Game\n",
      "Sleeping Gods\n",
      "Everdell\n",
      "City of the Big Shoulders\n",
      "ALIEN: Fate of the Nostromo\n",
      "Red Rising\n",
      "Dune: Imperium\n",
      "Root\n",
      "Tiny Epic Dungeons\n",
      "Lost Ruins of Arnak\n",
      "Great Western Trail\n",
      "So, You've Been Eaten.\n",
      "Gloomhaven\n",
      "Gloomhaven: Jaws of the Lion\n",
      "Terraforming Mars\n",
      "Wingspan\n",
      "Everdell: Newleaf\n",
      "Robinson Crusoe: Adventures on the Cursed Island\n",
      "Spirit Island\n",
      "Marvel Champions: The Card Game\n",
      "Arkham Horror: The Card Game\n",
      "Brass: Birmingham\n",
      "Scythe\n",
      "Everdell: Mistwood\n",
      "Canvas\n",
      "Root: The Marauder Expansion\n",
      "Imperial Struggle\n",
      "Tainted Grail: The Fall of Avalon\n",
      "Maglev Metro\n",
      "Bloodborne: The Board Game\n",
      "John Company: Second Edition\n",
      "Res Arcana\n",
      "The Quacks of Quedlinburg\n",
      "Dwellings of Eldervale\n",
      "Eclipse: Second Dawn for the Galaxy\n",
      "Nemesis\n",
      "Praga Caput Regni\n",
      "The Crew: The Quest for Planet Nine\n",
      "Pax Pamir: Second Edition\n",
      "Faiyum\n",
      "Gaia Project\n",
      "Maracaibo\n",
      "Aeon's End\n",
      "Terraforming Mars: Ares Expedition\n",
      "7 Wonders Duel\n",
      "Concordia\n",
      "Hallertau\n",
      "The Lord of the Rings: Journeys in Middle-Earth\n",
      "Cubitos\n",
      "War of the Ring: Second Edition\n"
     ]
    }
   ],
   "source": [
    "# Get the list of hot games, show it\n",
    "hot = bgg.hot_items('boardgame')\n",
    "\n",
    "print()\n",
    "for item in hot.items:\n",
    "    print(item.name)"
   ]
  },
  {
   "cell_type": "code",
   "execution_count": 159,
   "metadata": {},
   "outputs": [],
   "source": [
    "# For a given list of games, get the data and append it to a list, then we'll write it to a data frame\n",
    "\n",
    "# Eventually swap this out for the list of things that you'd actually like to see in the dataset (maybe the top 200 games?)\n",
    "gamelist = [\"Yukon Salon\"]\n",
    "gamelist = ['Dwellings of Eldervale']\n",
    "gamelist = [\"Yukon Salon\",'Dwellings of Eldervale','On Mars']\n",
    "\n",
    "cnt = 0\n",
    "\n",
    "ratingList = []\n",
    "try:\n",
    "    for gamename in gamelist:\n",
    "        g = bgg.game(gamename,rating_comments=True,comments=False)\n",
    "\n",
    "        try:\n",
    "            for game_comment in g.comments:\n",
    "                usrinfo = bgg.user(g.comments[0].commenter)\n",
    "\n",
    "                ratingList.append([gamename, g.id, game_comment.commenter, int(10*float(game_comment.rating))])\n",
    "        except:\n",
    "            print(\"Error retrieving rating info for {}, skipping!\".format(game_comment.commenter))\n",
    "\n",
    "except:\n",
    "    print(\"Error retrieving game info for {}, skipping!\".format(gamename))\n"
   ]
  },
  {
   "cell_type": "code",
   "execution_count": 249,
   "metadata": {},
   "outputs": [
    {
     "data": {
      "text/plain": [
       "<bound method NDFrame.head of                 0       1                  2    3\n",
       "0     Yukon Salon  218842  Twenty_Sided_Dave  100\n",
       "1     Yukon Salon  218842           mebibyte  100\n",
       "2     Yukon Salon  218842           cat_3105  100\n",
       "3     Yukon Salon  218842             Slaium  100\n",
       "4     Yukon Salon  218842    allambeehousesg  100\n",
       "5     Yukon Salon  218842          Mikeollek  100\n",
       "6     Yukon Salon  218842            dawsonc   90\n",
       "7     Yukon Salon  218842       DeirdreCross   90\n",
       "8     Yukon Salon  218842            MamaWho   90\n",
       "9     Yukon Salon  218842        sablebadger   80\n",
       "10    Yukon Salon  218842             araiff   80\n",
       "11    Yukon Salon  218842            elspark   80\n",
       "12    Yukon Salon  218842       pedrokerouac   80\n",
       "13    Yukon Salon  218842          Tylorgorn   75\n",
       "14    Yukon Salon  218842    diaboliclwombat   70\n",
       "15    Yukon Salon  218842           rexology   70\n",
       "16    Yukon Salon  218842      MiniGuerrilla   70\n",
       "17    Yukon Salon  218842          punkin312   70\n",
       "18    Yukon Salon  218842     julio007madrid   70\n",
       "19    Yukon Salon  218842          Johndango   70\n",
       "20    Yukon Salon  218842        DeathWarden   70\n",
       "21    Yukon Salon  218842         curiousbox   70\n",
       "22    Yukon Salon  218842        UncleGramps   65\n",
       "23    Yukon Salon  218842            ken_ken   64\n",
       "24    Yukon Salon  218842  theboardgamevault   60\n",
       "25    Yukon Salon  218842              fsnam   60\n",
       "26    Yukon Salon  218842       adampudliner   60\n",
       "27    Yukon Salon  218842         elwayfan2k   55\n",
       "28    Yukon Salon  218842         Elijah Six   50\n",
       "29    Yukon Salon  218842          strazdits   50\n",
       "...           ...     ...                ...  ...\n",
       "7413      On Mars  184267            Djavani   20\n",
       "7414      On Mars  184267            whoknew   20\n",
       "7415      On Mars  184267         Anomandras   20\n",
       "7416      On Mars  184267        mehmetelber   10\n",
       "7417      On Mars  184267  Nomorepiratedgame   10\n",
       "7418      On Mars  184267         Infernotez   10\n",
       "7419      On Mars  184267            Peepser   10\n",
       "7420      On Mars  184267           Rednas79   10\n",
       "7421      On Mars  184267            solianc   10\n",
       "7422      On Mars  184267            lunark2   10\n",
       "7423      On Mars  184267             GM1111   10\n",
       "7424      On Mars  184267           defeldus   10\n",
       "7425      On Mars  184267  KaladinBridgeMan4   10\n",
       "7426      On Mars  184267          drbasseri   10\n",
       "7427      On Mars  184267             Honshu   10\n",
       "7428      On Mars  184267          Charras01   10\n",
       "7429      On Mars  184267          RadoGaman   10\n",
       "7430      On Mars  184267              jsect   10\n",
       "7431      On Mars  184267       DarthBoromir   10\n",
       "7432      On Mars  184267             spotje   10\n",
       "7433      On Mars  184267          Repetardo   10\n",
       "7434      On Mars  184267         Menorbriam   10\n",
       "7435      On Mars  184267             sinkon   10\n",
       "7436      On Mars  184267       penguinkim37   10\n",
       "7437      On Mars  184267      JustAQuestion   10\n",
       "7438      On Mars  184267     avidboredgamer   10\n",
       "7439      On Mars  184267           Willy484   10\n",
       "7440      On Mars  184267       A79270428926   10\n",
       "7441      On Mars  184267        DWTheriault   10\n",
       "7442      On Mars  184267          Milordz98   10\n",
       "\n",
       "[7443 rows x 4 columns]>"
      ]
     },
     "execution_count": 249,
     "metadata": {},
     "output_type": "execute_result"
    }
   ],
   "source": [
    "# Then we'll write it to a data frame and show some of it\n",
    "bg_df = pd.DataFrame(ratingList)\n",
    "bg_df.head\n"
   ]
  },
  {
   "cell_type": "code",
   "execution_count": null,
   "metadata": {},
   "outputs": [],
   "source": [
    "# Need to make a similar database of all the UserNames and associate them with a userID (or at least a uniqueID for the collaborative filtering)"
   ]
  }
 ],
 "metadata": {
  "kernelspec": {
   "display_name": "Python 3",
   "language": "python",
   "name": "python3"
  },
  "language_info": {
   "codemirror_mode": {
    "name": "ipython",
    "version": 3
   },
   "file_extension": ".py",
   "mimetype": "text/x-python",
   "name": "python",
   "nbconvert_exporter": "python",
   "pygments_lexer": "ipython3",
   "version": "3.6.7"
  }
 },
 "nbformat": 4,
 "nbformat_minor": 2
}
